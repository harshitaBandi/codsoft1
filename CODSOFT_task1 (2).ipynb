{
  "nbformat": 4,
  "nbformat_minor": 0,
  "metadata": {
    "colab": {
      "provenance": []
    },
    "kernelspec": {
      "name": "python3",
      "display_name": "Python 3"
    },
    "language_info": {
      "name": "python"
    }
  },
  "cells": [
    {
      "cell_type": "code",
      "execution_count": null,
      "metadata": {
        "colab": {
          "base_uri": "https://localhost:8080/"
        },
        "id": "UVsnRq68qJFG",
        "outputId": "d76fb0aa-1c82-4ca9-dd6c-dc1382d6c546"
      },
      "outputs": [
        {
          "output_type": "stream",
          "name": "stdout",
          "text": [
            "Chatbot: Hi! How can I help you today?\n",
            "You: Hi there!\n",
            "Chatbot: I'm sorry, I don't understand.\n",
            "You: Hello!\n",
            "Chatbot: Hi there!\n",
            "You: how are you\n",
            "Chatbot: I don't have feelings, but I'm here to help.\n",
            "You: bye\n",
            "Chatbot: Goodbye!\n"
          ]
        }
      ],
      "source": [
        "import random\n",
        "\n",
        "# Define a function to get a response based on user input\n",
        "def get_response(user_input):\n",
        "    user_input = user_input.lower()  # Convert user input to lowercase for case-insensitivity\n",
        "\n",
        "    # Define a list of predefined rules and responses\n",
        "    rules = {\n",
        "        \"hello\": [\"Hi there!\", \"Hello!\", \"Hey!\"],\n",
        "        \"how are you\": [\"I'm just a chatbot.\", \"I'm doing fine, thank you.\", \"I don't have feelings, but I'm here to help.\"],\n",
        "        \"bye\": [\"Goodbye!\", \"See you later!\", \"Bye bye!\"],\n",
        "        \"default\": [\"I'm sorry, I don't understand.\", \"Could you please rephrase that?\", \"I'm just a simple chatbot.\"]\n",
        "    }\n",
        "\n",
        "    # Check if the user input matches any predefined rules\n",
        "    for key in rules:\n",
        "        if key in user_input:\n",
        "            return random.choice(rules[key])\n",
        "\n",
        "    # If no matching rule is found, return a default response\n",
        "    return random.choice(rules[\"default\"])\n",
        "\n",
        "# Main loop to interact with the chatbot\n",
        "print(\"Chatbot: Hi! How can I help you today?\")\n",
        "while True:\n",
        "    user_input = input(\"You: \")\n",
        "    if user_input.lower() == \"bye\":\n",
        "        print(\"Chatbot: Goodbye!\")\n",
        "        break\n",
        "    response = get_response(user_input)\n",
        "    print(\"Chatbot:\", response)\n"
      ]
    }
  ]
}